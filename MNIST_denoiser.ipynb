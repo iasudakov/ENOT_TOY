{
 "cells": [
  {
   "cell_type": "code",
   "execution_count": 1,
   "metadata": {},
   "outputs": [],
   "source": [
    "import os, sys\n",
    "sys.path.append(\"..\")\n",
    "\n",
    "import torch\n",
    "from torch import nn\n",
    "from torch.optim import Adam\n",
    "import torch.nn.functional as F\n",
    "\n",
    "import numpy as np\n",
    "\n",
    "from matplotlib import pyplot as plt\n",
    "\n",
    "from tqdm import tqdm\n",
    "from IPython.display import clear_output\n",
    "\n",
    "from MNIST_models.plotters import plot_trajectories, plot_images\n",
    "\n",
    "from src.tools import load_dataset\n",
    "\n",
    "import wandb\n",
    "\n",
    "import os\n",
    "SEED = 0xBADBEEF\n",
    "torch.manual_seed(SEED); np.random.seed(SEED)"
   ]
  },
  {
   "cell_type": "code",
   "execution_count": 2,
   "metadata": {},
   "outputs": [],
   "source": [
    "batch_size = 64\n",
    "IMG_SIZE = 32\n",
    "IMG_CHANNELS = 3\n",
    "ZC = 1\n",
    "Z_STD = 1.0\n",
    "GAMMA = 0.0\n",
    "\n",
    "TIME_DIM = 128\n",
    "UNET_BASE_FACTOR = 48\n",
    "N_STEPS = 10\n",
    "\n",
    "lr = 1e-4\n",
    "\n",
    "G_ITERS = 10\n",
    "D_ITERS = 1\n",
    "f_ITERS = 5\n",
    "MAX_STEPS = 50000"
   ]
  },
  {
   "cell_type": "code",
   "execution_count": 3,
   "metadata": {},
   "outputs": [],
   "source": [
    "device = torch.device(\"cuda\" if torch.cuda.is_available() else \"cpu\")"
   ]
  },
  {
   "cell_type": "code",
   "execution_count": 4,
   "metadata": {},
   "outputs": [],
   "source": [
    "sampler3, test_sampler3 = load_dataset('MNIST-colored_3', './datasets/MNIST', img_size=IMG_SIZE, batch_size=batch_size, device=device)\n",
    "sampler2, test_sampler2 = load_dataset('MNIST-colored_2', './datasets/MNIST', img_size=IMG_SIZE, batch_size=batch_size, device=device)\n",
    "Y_sampler = sampler3\n",
    "X_sampler = sampler2"
   ]
  },
  {
   "cell_type": "code",
   "execution_count": 5,
   "metadata": {},
   "outputs": [],
   "source": [
    "from MNIST_models.cunet import CUNet\n",
    "from MNIST_models.resnet import ResNet_D\n",
    "from MNIST_models.unet import UNet\n",
    "from MNIST_models.enot import SDE_denoiser, G_wrapper"
   ]
  },
  {
   "cell_type": "code",
   "execution_count": null,
   "metadata": {},
   "outputs": [
    {
     "name": "stdout",
     "output_type": "stream",
     "text": [
      "D params: 13494209\n",
      "G params: 9716259\n",
      "sde params: 9934611\n"
     ]
    }
   ],
   "source": [
    "D = ResNet_D(IMG_SIZE, nc=IMG_CHANNELS).to(device)\n",
    "G = UNet(IMG_CHANNELS+ZC, IMG_CHANNELS, base_factor=UNET_BASE_FACTOR).to(device)\n",
    "G = G_wrapper(G, ZC, Z_STD)\n",
    "denoiser = CUNet(IMG_CHANNELS, IMG_CHANNELS, TIME_DIM, base_factor=UNET_BASE_FACTOR).to(device)\n",
    "sde = SDE_denoiser(denoiser=denoiser, n_steps=N_STEPS, time_dim=TIME_DIM).to(device)\n",
    "\n",
    "sde_opt = Adam(sde.parameters(), lr=lr*10)\n",
    "G_opt = Adam(G.parameters(), lr=lr)\n",
    "D_opt = Adam(D.parameters(), lr=lr)\n",
    "    \n",
    "print('D params:', np.sum([np.prod(p.shape) for p in D.parameters()]))\n",
    "print('G params:', np.sum([np.prod(p.shape) for p in G.parameters()]))\n",
    "print('sde params:', np.sum([np.prod(p.shape) for p in sde.parameters()]))"
   ]
  },
  {
   "cell_type": "code",
   "execution_count": null,
   "metadata": {},
   "outputs": [],
   "source": [
    "def trainENOT(X_sampler, Y_sampler, G, G_opt, D, D_opt, sde, sde_opt):\n",
    "    \n",
    "    for step in tqdm(range(MAX_STEPS)):\n",
    "            \n",
    "        for G_iter in range(G_ITERS):\n",
    "\n",
    "            for f_iter in range(f_ITERS):\n",
    "                x0 = X_sampler.sample(batch_size)\n",
    "                xN = G(x0)\n",
    "                \n",
    "                t = (torch.rand(batch_size)*0.99).to(device)\n",
    "                t_emb = sde.time(t)[:, :, None, None]\n",
    "                t = t[:, None, None, None]\n",
    "                xt = x0 + (xN - x0) * t + torch.randn_like(x0)*torch.sqrt(t*(1-t)*GAMMA)\n",
    "                \n",
    "                f_loss = ((sde.denoiser(xt, t_emb) - xN) ** 2).mean()\n",
    "                sde_opt.zero_grad(); f_loss.backward(); sde_opt.step()\n",
    "\n",
    "            x0 = X_sampler.sample(batch_size)\n",
    "            xN = G(x0)\n",
    "\n",
    "            t = (torch.rand(batch_size)*0.99).to(device)\n",
    "            t_emb = sde.time(t)[:, :, None, None]\n",
    "            t = t[:, None, None, None]\n",
    "            xt = x0 + (xN - x0) * t + torch.randn_like(x0)*torch.sqrt(t*(1-t)*GAMMA)\n",
    "            \n",
    "            f_x_t = (sde.denoiser(xt, t_emb) - xt)\n",
    "            E = (xN - xt)\n",
    "\n",
    "            loss1 = ((f_x_t*E).mean() - (f_x_t*f_x_t).mean()/2)*2\n",
    "            loss2 = - D(xN).mean()\n",
    "\n",
    "            G_loss = loss1 + loss2\n",
    "            \n",
    "            G_opt.zero_grad(); G_loss.backward(); G_opt.step()\n",
    "        \n",
    "        \n",
    "        # plotter 1\n",
    "        if step % 25 == 1:\n",
    "            clear_output(wait=True)\n",
    "            \n",
    "            with torch.no_grad():\n",
    "                X = X_sampler.sample(batch_size)\n",
    "\n",
    "                T_XZ_np = []\n",
    "                \n",
    "                # Our method results G\n",
    "                for i in range(100):\n",
    "                    T_XZ_np.append(G(X).cpu().numpy())\n",
    "            \n",
    "                T_XZ_np = np.array(T_XZ_np)\n",
    "                wandb.log({f'G var' : T_XZ_np.var(axis=0).mean(axis=0).mean().item()}, step=step)\n",
    "\n",
    "                T_X_np = []\n",
    "                for i in range(100):\n",
    "                    T_X_np.append(sde(X, GAMMA).cpu().numpy())\n",
    "            \n",
    "                T_X_np = np.array(T_X_np)\n",
    "                wandb.log({f'sde var' : T_X_np.var(axis=0).mean(axis=0).mean().item()}, step=step)\n",
    "                \n",
    "            \n",
    "            X = X_sampler.sample(batch_size)\n",
    "            \n",
    "            G_dataset = G(X).detach()\n",
    "            f_dataset = sde(X).detach()\n",
    "            \n",
    "            wandb.log({f'G mse' : F.mse_loss(X.detach(), G_dataset).item()}, step=step)\n",
    "            wandb.log({f'sde mse' : F.mse_loss(X.detach(), f_dataset).item()}, step=step)\n",
    "            \n",
    "            fig1 = plot_trajectories(sde, GAMMA, X_sampler, 3)\n",
    "            wandb.log({\"trajectories\": wandb.Image(fig1)}, step=step)\n",
    "            plt.close(fig1)\n",
    "            fig2 = plot_images(sde, X_sampler, 4, 4)\n",
    "            wandb.log({\"generated_images\": wandb.Image(fig2)}, step=step)\n",
    "            plt.close(fig2)\n",
    "            \n",
    "    \n",
    "        for D_iter in range(D_ITERS):\n",
    "            x0 = X_sampler.sample(batch_size)\n",
    "            x1 = Y_sampler.sample(batch_size)\n",
    "            xN = G(x0)\n",
    "            D_loss = (- D(x1) + D(xN)).mean()\n",
    "            D_opt.zero_grad(); D_loss.backward(); D_opt.step()\n",
    "\n",
    "        wandb.log({f'f_loss' : f_loss.item()}, step=step)\n",
    "        wandb.log({f'G_loss' : G_loss.item()}, step=step)\n",
    "        wandb.log({f'D_loss' : D_loss.item()}, step=step)"
   ]
  },
  {
   "cell_type": "code",
   "execution_count": 8,
   "metadata": {},
   "outputs": [
    {
     "name": "stderr",
     "output_type": "stream",
     "text": [
      "\u001b[34m\u001b[1mwandb\u001b[0m: Currently logged in as: \u001b[33milyasudakov\u001b[0m (\u001b[33msudakov\u001b[0m). Use \u001b[1m`wandb login --relogin`\u001b[0m to force relogin\n",
      "\u001b[34m\u001b[1mwandb\u001b[0m: Using wandb-core as the SDK backend.  Please refer to https://wandb.me/wandb-core for more information.\n"
     ]
    },
    {
     "data": {
      "text/html": [
       "Tracking run with wandb version 0.19.2"
      ],
      "text/plain": [
       "<IPython.core.display.HTML object>"
      ]
     },
     "metadata": {},
     "output_type": "display_data"
    },
    {
     "data": {
      "text/html": [
       "Run data is saved locally in <code>/home/sudakovcom/Desktop/ENOT_TOY/wandb/run-20250324_184659-p8rg4dag</code>"
      ],
      "text/plain": [
       "<IPython.core.display.HTML object>"
      ]
     },
     "metadata": {},
     "output_type": "display_data"
    },
    {
     "data": {
      "text/html": [
       "Syncing run <strong><a href='https://wandb.ai/sudakov/MNIST_EOT/runs/p8rg4dag' target=\"_blank\">jumping-bee-44</a></strong> to <a href='https://wandb.ai/sudakov/MNIST_EOT' target=\"_blank\">Weights & Biases</a> (<a href='https://wandb.me/developer-guide' target=\"_blank\">docs</a>)<br>"
      ],
      "text/plain": [
       "<IPython.core.display.HTML object>"
      ]
     },
     "metadata": {},
     "output_type": "display_data"
    },
    {
     "data": {
      "text/html": [
       " View project at <a href='https://wandb.ai/sudakov/MNIST_EOT' target=\"_blank\">https://wandb.ai/sudakov/MNIST_EOT</a>"
      ],
      "text/plain": [
       "<IPython.core.display.HTML object>"
      ]
     },
     "metadata": {},
     "output_type": "display_data"
    },
    {
     "data": {
      "text/html": [
       " View run at <a href='https://wandb.ai/sudakov/MNIST_EOT/runs/p8rg4dag' target=\"_blank\">https://wandb.ai/sudakov/MNIST_EOT/runs/p8rg4dag</a>"
      ],
      "text/plain": [
       "<IPython.core.display.HTML object>"
      ]
     },
     "metadata": {},
     "output_type": "display_data"
    },
    {
     "data": {
      "text/html": [
       "<button onClick=\"this.nextSibling.style.display='block';this.style.display='none';\">Display W&B run</button><iframe src='https://wandb.ai/sudakov/MNIST_EOT/runs/p8rg4dag?jupyter=true' style='border:none;width:100%;height:420px;display:none;'></iframe>"
      ],
      "text/plain": [
       "<wandb.sdk.wandb_run.Run at 0x779904669fd0>"
      ]
     },
     "execution_count": 8,
     "metadata": {},
     "output_type": "execute_result"
    }
   ],
   "source": [
    "wandb.init(project='MNIST_EOT')"
   ]
  },
  {
   "cell_type": "code",
   "execution_count": 9,
   "metadata": {},
   "outputs": [
    {
     "name": "stderr",
     "output_type": "stream",
     "text": [
      "  1%|          | 429/50000 [43:26<83:39:44,  6.08s/it] \n"
     ]
    },
    {
     "ename": "KeyboardInterrupt",
     "evalue": "",
     "output_type": "error",
     "traceback": [
      "\u001b[0;31m---------------------------------------------------------------------------\u001b[0m",
      "\u001b[0;31mKeyboardInterrupt\u001b[0m                         Traceback (most recent call last)",
      "Cell \u001b[0;32mIn[9], line 1\u001b[0m\n\u001b[0;32m----> 1\u001b[0m stats \u001b[38;5;241m=\u001b[39m \u001b[43mtrainENOT\u001b[49m\u001b[43m(\u001b[49m\u001b[43mX_sampler\u001b[49m\u001b[43m,\u001b[49m\u001b[43m \u001b[49m\u001b[43mY_sampler\u001b[49m\u001b[43m,\u001b[49m\u001b[43m \u001b[49m\u001b[43mG\u001b[49m\u001b[43m,\u001b[49m\u001b[43m \u001b[49m\u001b[43mG_opt\u001b[49m\u001b[43m,\u001b[49m\u001b[43m \u001b[49m\u001b[43mD\u001b[49m\u001b[43m,\u001b[49m\u001b[43m \u001b[49m\u001b[43mD_opt\u001b[49m\u001b[43m,\u001b[49m\u001b[43m \u001b[49m\u001b[43msde\u001b[49m\u001b[43m,\u001b[49m\u001b[43m \u001b[49m\u001b[43msde_opt\u001b[49m\u001b[43m)\u001b[49m\n",
      "Cell \u001b[0;32mIn[7], line 8\u001b[0m, in \u001b[0;36mtrainENOT\u001b[0;34m(X_sampler, Y_sampler, G, G_opt, D, D_opt, sde, sde_opt)\u001b[0m\n\u001b[1;32m      5\u001b[0m \u001b[38;5;28;01mfor\u001b[39;00m G_iter \u001b[38;5;129;01min\u001b[39;00m \u001b[38;5;28mrange\u001b[39m(G_ITERS):\n\u001b[1;32m      7\u001b[0m     \u001b[38;5;28;01mfor\u001b[39;00m f_iter \u001b[38;5;129;01min\u001b[39;00m \u001b[38;5;28mrange\u001b[39m(f_ITERS):\n\u001b[0;32m----> 8\u001b[0m         x0 \u001b[38;5;241m=\u001b[39m \u001b[43mX_sampler\u001b[49m\u001b[38;5;241;43m.\u001b[39;49m\u001b[43msample\u001b[49m\u001b[43m(\u001b[49m\u001b[43mbatch_size\u001b[49m\u001b[43m)\u001b[49m\n\u001b[1;32m      9\u001b[0m         xN \u001b[38;5;241m=\u001b[39m G(x0)\n\u001b[1;32m     11\u001b[0m         t \u001b[38;5;241m=\u001b[39m (torch\u001b[38;5;241m.\u001b[39mrand(batch_size)\u001b[38;5;241m*\u001b[39m\u001b[38;5;241m0.99\u001b[39m)\u001b[38;5;241m.\u001b[39mto(device)\n",
      "File \u001b[0;32m~/Desktop/ENOT_TOY/src/distributions.py:32\u001b[0m, in \u001b[0;36mLoaderSampler.sample\u001b[0;34m(self, size)\u001b[0m\n\u001b[1;32m     29\u001b[0m \u001b[38;5;28;01mif\u001b[39;00m \u001b[38;5;28mlen\u001b[39m(batch) \u001b[38;5;241m<\u001b[39m size:\n\u001b[1;32m     30\u001b[0m     \u001b[38;5;28;01mreturn\u001b[39;00m \u001b[38;5;28mself\u001b[39m\u001b[38;5;241m.\u001b[39msample(size)\n\u001b[0;32m---> 32\u001b[0m \u001b[38;5;28;01mreturn\u001b[39;00m \u001b[43mbatch\u001b[49m\u001b[43m[\u001b[49m\u001b[43m:\u001b[49m\u001b[43msize\u001b[49m\u001b[43m]\u001b[49m\u001b[38;5;241;43m.\u001b[39;49m\u001b[43mto\u001b[49m\u001b[43m(\u001b[49m\u001b[38;5;28;43mself\u001b[39;49m\u001b[38;5;241;43m.\u001b[39;49m\u001b[43mdevice\u001b[49m\u001b[43m)\u001b[49m\n",
      "\u001b[0;31mKeyboardInterrupt\u001b[0m: "
     ]
    },
    {
     "name": "stdout",
     "output_type": "stream",
     "text": [
      "Error in callback <bound method _WandbInit._pause_backend of <wandb.sdk.wandb_init._WandbInit object at 0x7797f44f6c90>> (for post_run_cell), with arguments args (<ExecutionResult object at 77990469b1d0, execution_count=9 error_before_exec=None error_in_exec= info=<ExecutionInfo object at 77990465d990, raw_cell=\"stats = trainENOT(X_sampler, Y_sampler, G, G_opt, ..\" store_history=True silent=False shell_futures=True cell_id=vscode-notebook-cell://ssh-remote%2B172.23.73.58/home/sudakovcom/Desktop/ENOT_TOY/MNIST_denoiser.ipynb#X11sdnNjb2RlLXJlbW90ZQ%3D%3D> result=None>,),kwargs {}:\n"
     ]
    },
    {
     "ename": "BrokenPipeError",
     "evalue": "[Errno 32] Broken pipe",
     "output_type": "error",
     "traceback": [
      "\u001b[0;31m---------------------------------------------------------------------------\u001b[0m",
      "\u001b[0;31mBrokenPipeError\u001b[0m                           Traceback (most recent call last)",
      "File \u001b[0;32m~/Desktop/NOT/.conda/lib/python3.11/site-packages/wandb/sdk/wandb_init.py:435\u001b[0m, in \u001b[0;36m_WandbInit._pause_backend\u001b[0;34m(self, *args, **kwargs)\u001b[0m\n\u001b[1;32m    433\u001b[0m \u001b[38;5;28;01mif\u001b[39;00m \u001b[38;5;28mself\u001b[39m\u001b[38;5;241m.\u001b[39mbackend\u001b[38;5;241m.\u001b[39minterface \u001b[38;5;129;01mis\u001b[39;00m \u001b[38;5;129;01mnot\u001b[39;00m \u001b[38;5;28;01mNone\u001b[39;00m:\n\u001b[1;32m    434\u001b[0m     logger\u001b[38;5;241m.\u001b[39minfo(\u001b[38;5;124m\"\u001b[39m\u001b[38;5;124mpausing backend\u001b[39m\u001b[38;5;124m\"\u001b[39m)  \u001b[38;5;66;03m# type: ignore\u001b[39;00m\n\u001b[0;32m--> 435\u001b[0m     \u001b[38;5;28;43mself\u001b[39;49m\u001b[38;5;241;43m.\u001b[39;49m\u001b[43mbackend\u001b[49m\u001b[38;5;241;43m.\u001b[39;49m\u001b[43minterface\u001b[49m\u001b[38;5;241;43m.\u001b[39;49m\u001b[43mpublish_pause\u001b[49m\u001b[43m(\u001b[49m\u001b[43m)\u001b[49m\n",
      "File \u001b[0;32m~/Desktop/NOT/.conda/lib/python3.11/site-packages/wandb/sdk/interface/interface.py:763\u001b[0m, in \u001b[0;36mInterfaceBase.publish_pause\u001b[0;34m(self)\u001b[0m\n\u001b[1;32m    761\u001b[0m \u001b[38;5;28;01mdef\u001b[39;00m\u001b[38;5;250m \u001b[39m\u001b[38;5;21mpublish_pause\u001b[39m(\u001b[38;5;28mself\u001b[39m) \u001b[38;5;241m-\u001b[39m\u001b[38;5;241m>\u001b[39m \u001b[38;5;28;01mNone\u001b[39;00m:\n\u001b[1;32m    762\u001b[0m     pause \u001b[38;5;241m=\u001b[39m pb\u001b[38;5;241m.\u001b[39mPauseRequest()\n\u001b[0;32m--> 763\u001b[0m     \u001b[38;5;28;43mself\u001b[39;49m\u001b[38;5;241;43m.\u001b[39;49m\u001b[43m_publish_pause\u001b[49m\u001b[43m(\u001b[49m\u001b[43mpause\u001b[49m\u001b[43m)\u001b[49m\n",
      "File \u001b[0;32m~/Desktop/NOT/.conda/lib/python3.11/site-packages/wandb/sdk/interface/interface_shared.py:368\u001b[0m, in \u001b[0;36mInterfaceShared._publish_pause\u001b[0;34m(self, pause)\u001b[0m\n\u001b[1;32m    366\u001b[0m \u001b[38;5;28;01mdef\u001b[39;00m\u001b[38;5;250m \u001b[39m\u001b[38;5;21m_publish_pause\u001b[39m(\u001b[38;5;28mself\u001b[39m, pause: pb\u001b[38;5;241m.\u001b[39mPauseRequest) \u001b[38;5;241m-\u001b[39m\u001b[38;5;241m>\u001b[39m \u001b[38;5;28;01mNone\u001b[39;00m:\n\u001b[1;32m    367\u001b[0m     rec \u001b[38;5;241m=\u001b[39m \u001b[38;5;28mself\u001b[39m\u001b[38;5;241m.\u001b[39m_make_request(pause\u001b[38;5;241m=\u001b[39mpause)\n\u001b[0;32m--> 368\u001b[0m     \u001b[38;5;28;43mself\u001b[39;49m\u001b[38;5;241;43m.\u001b[39;49m\u001b[43m_publish\u001b[49m\u001b[43m(\u001b[49m\u001b[43mrec\u001b[49m\u001b[43m)\u001b[49m\n",
      "File \u001b[0;32m~/Desktop/NOT/.conda/lib/python3.11/site-packages/wandb/sdk/interface/interface_sock.py:51\u001b[0m, in \u001b[0;36mInterfaceSock._publish\u001b[0;34m(self, record, local)\u001b[0m\n\u001b[1;32m     49\u001b[0m \u001b[38;5;28;01mdef\u001b[39;00m\u001b[38;5;250m \u001b[39m\u001b[38;5;21m_publish\u001b[39m(\u001b[38;5;28mself\u001b[39m, record: \u001b[38;5;124m\"\u001b[39m\u001b[38;5;124mpb.Record\u001b[39m\u001b[38;5;124m\"\u001b[39m, local: Optional[\u001b[38;5;28mbool\u001b[39m] \u001b[38;5;241m=\u001b[39m \u001b[38;5;28;01mNone\u001b[39;00m) \u001b[38;5;241m-\u001b[39m\u001b[38;5;241m>\u001b[39m \u001b[38;5;28;01mNone\u001b[39;00m:\n\u001b[1;32m     50\u001b[0m     \u001b[38;5;28mself\u001b[39m\u001b[38;5;241m.\u001b[39m_assign(record)\n\u001b[0;32m---> 51\u001b[0m     \u001b[38;5;28;43mself\u001b[39;49m\u001b[38;5;241;43m.\u001b[39;49m\u001b[43m_sock_client\u001b[49m\u001b[38;5;241;43m.\u001b[39;49m\u001b[43msend_record_publish\u001b[49m\u001b[43m(\u001b[49m\u001b[43mrecord\u001b[49m\u001b[43m)\u001b[49m\n",
      "File \u001b[0;32m~/Desktop/NOT/.conda/lib/python3.11/site-packages/wandb/sdk/lib/sock_client.py:222\u001b[0m, in \u001b[0;36mSockClient.send_record_publish\u001b[0;34m(self, record)\u001b[0m\n\u001b[1;32m    220\u001b[0m server_req \u001b[38;5;241m=\u001b[39m spb\u001b[38;5;241m.\u001b[39mServerRequest()\n\u001b[1;32m    221\u001b[0m server_req\u001b[38;5;241m.\u001b[39mrecord_publish\u001b[38;5;241m.\u001b[39mCopyFrom(record)\n\u001b[0;32m--> 222\u001b[0m \u001b[38;5;28;43mself\u001b[39;49m\u001b[38;5;241;43m.\u001b[39;49m\u001b[43msend_server_request\u001b[49m\u001b[43m(\u001b[49m\u001b[43mserver_req\u001b[49m\u001b[43m)\u001b[49m\n",
      "File \u001b[0;32m~/Desktop/NOT/.conda/lib/python3.11/site-packages/wandb/sdk/lib/sock_client.py:154\u001b[0m, in \u001b[0;36mSockClient.send_server_request\u001b[0;34m(self, msg)\u001b[0m\n\u001b[1;32m    153\u001b[0m \u001b[38;5;28;01mdef\u001b[39;00m\u001b[38;5;250m \u001b[39m\u001b[38;5;21msend_server_request\u001b[39m(\u001b[38;5;28mself\u001b[39m, msg: Any) \u001b[38;5;241m-\u001b[39m\u001b[38;5;241m>\u001b[39m \u001b[38;5;28;01mNone\u001b[39;00m:\n\u001b[0;32m--> 154\u001b[0m     \u001b[38;5;28;43mself\u001b[39;49m\u001b[38;5;241;43m.\u001b[39;49m\u001b[43m_send_message\u001b[49m\u001b[43m(\u001b[49m\u001b[43mmsg\u001b[49m\u001b[43m)\u001b[49m\n",
      "File \u001b[0;32m~/Desktop/NOT/.conda/lib/python3.11/site-packages/wandb/sdk/lib/sock_client.py:151\u001b[0m, in \u001b[0;36mSockClient._send_message\u001b[0;34m(self, msg)\u001b[0m\n\u001b[1;32m    149\u001b[0m header \u001b[38;5;241m=\u001b[39m struct\u001b[38;5;241m.\u001b[39mpack(\u001b[38;5;124m\"\u001b[39m\u001b[38;5;124m<BI\u001b[39m\u001b[38;5;124m\"\u001b[39m, \u001b[38;5;28mord\u001b[39m(\u001b[38;5;124m\"\u001b[39m\u001b[38;5;124mW\u001b[39m\u001b[38;5;124m\"\u001b[39m), raw_size)\n\u001b[1;32m    150\u001b[0m \u001b[38;5;28;01mwith\u001b[39;00m \u001b[38;5;28mself\u001b[39m\u001b[38;5;241m.\u001b[39m_lock:\n\u001b[0;32m--> 151\u001b[0m     \u001b[38;5;28;43mself\u001b[39;49m\u001b[38;5;241;43m.\u001b[39;49m\u001b[43m_sendall_with_error_handle\u001b[49m\u001b[43m(\u001b[49m\u001b[43mheader\u001b[49m\u001b[43m \u001b[49m\u001b[38;5;241;43m+\u001b[39;49m\u001b[43m \u001b[49m\u001b[43mdata\u001b[49m\u001b[43m)\u001b[49m\n",
      "File \u001b[0;32m~/Desktop/NOT/.conda/lib/python3.11/site-packages/wandb/sdk/lib/sock_client.py:130\u001b[0m, in \u001b[0;36mSockClient._sendall_with_error_handle\u001b[0;34m(self, data)\u001b[0m\n\u001b[1;32m    128\u001b[0m start_time \u001b[38;5;241m=\u001b[39m time\u001b[38;5;241m.\u001b[39mmonotonic()\n\u001b[1;32m    129\u001b[0m \u001b[38;5;28;01mtry\u001b[39;00m:\n\u001b[0;32m--> 130\u001b[0m     sent \u001b[38;5;241m=\u001b[39m \u001b[38;5;28;43mself\u001b[39;49m\u001b[38;5;241;43m.\u001b[39;49m\u001b[43m_sock\u001b[49m\u001b[38;5;241;43m.\u001b[39;49m\u001b[43msend\u001b[49m\u001b[43m(\u001b[49m\u001b[43mdata\u001b[49m\u001b[43m)\u001b[49m\n\u001b[1;32m    131\u001b[0m     \u001b[38;5;66;03m# sent equal to 0 indicates a closed socket\u001b[39;00m\n\u001b[1;32m    132\u001b[0m     \u001b[38;5;28;01mif\u001b[39;00m sent \u001b[38;5;241m==\u001b[39m \u001b[38;5;241m0\u001b[39m:\n",
      "\u001b[0;31mBrokenPipeError\u001b[0m: [Errno 32] Broken pipe"
     ]
    }
   ],
   "source": [
    "stats = trainENOT(X_sampler, Y_sampler, G, G_opt, D, D_opt, sde, sde_opt)"
   ]
  },
  {
   "cell_type": "code",
   "execution_count": null,
   "metadata": {},
   "outputs": [],
   "source": [
    "# D_checkpoint = {\n",
    "#     'D': D.state_dict(),\n",
    "#     'optimizer_D': D_opt.state_dict()}\n",
    "# torch.save(D_checkpoint, 'D_checkpoint.pth')"
   ]
  },
  {
   "cell_type": "code",
   "execution_count": null,
   "metadata": {},
   "outputs": [],
   "source": [
    "# G_checkpoint = { \n",
    "#     'G': G.state_dict(),\n",
    "#     'optimizer_G': G_opt.state_dict()}\n",
    "# torch.save(G_checkpoint, 'G_checkpoint.pth')"
   ]
  },
  {
   "cell_type": "code",
   "execution_count": null,
   "metadata": {},
   "outputs": [],
   "source": [
    "# sde_checkpoint = { \n",
    "#     'sde': sde.state_dict(),\n",
    "#     'optimizer_sde': sde_opt.state_dict()}\n",
    "# torch.save(sde_checkpoint, 'sde_checkpoint.pth')"
   ]
  },
  {
   "cell_type": "code",
   "execution_count": null,
   "metadata": {},
   "outputs": [],
   "source": [
    "# D_checkpoint  = torch.load('D_checkpoint.pth')\n",
    "# D.load_state_dict(D_checkpoint['D'])\n",
    "# D_opt.load_state_dict(D_checkpoint['optimizer_D'])\n",
    "\n",
    "# G_checkpoint  = torch.load('G_checkpoint.pth')\n",
    "# G.load_state_dict(G_checkpoint['G'])\n",
    "# G_opt.load_state_dict(G_checkpoint['optimizer_G'])\n",
    "\n",
    "# sde_checkpoint  = torch.load('sde_checkpoint.pth')\n",
    "# sde.load_state_dict(sde_checkpoint['sde'])\n",
    "# sde_opt.load_state_dict(sde_checkpoint['optimizer_sde'])"
   ]
  },
  {
   "cell_type": "code",
   "execution_count": null,
   "metadata": {},
   "outputs": [],
   "source": []
  }
 ],
 "metadata": {
  "kernelspec": {
   "display_name": "Python 3",
   "language": "python",
   "name": "python3"
  },
  "language_info": {
   "codemirror_mode": {
    "name": "ipython",
    "version": 3
   },
   "file_extension": ".py",
   "mimetype": "text/x-python",
   "name": "python",
   "nbconvert_exporter": "python",
   "pygments_lexer": "ipython3",
   "version": "3.11.11"
  }
 },
 "nbformat": 4,
 "nbformat_minor": 2
}
