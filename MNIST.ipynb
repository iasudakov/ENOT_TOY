{
 "cells": [
  {
   "cell_type": "code",
   "execution_count": 1,
   "metadata": {},
   "outputs": [],
   "source": [
    "import os, sys\n",
    "sys.path.append(\"..\")\n",
    "\n",
    "import torch\n",
    "from torch import nn\n",
    "from torch.optim import Adam\n",
    "import torch.nn.functional as F\n",
    "\n",
    "import numpy as np\n",
    "\n",
    "from matplotlib import pyplot as plt\n",
    "\n",
    "from tqdm import tqdm\n",
    "from IPython.display import clear_output\n",
    "\n",
    "from MNIST_models.plotters import plot_trajectories, plot_images\n",
    "\n",
    "from src.tools import load_dataset\n",
    "\n",
    "import wandb\n",
    "\n",
    "import os\n",
    "SEED = 0xBADBEEF\n",
    "torch.manual_seed(SEED); np.random.seed(SEED)"
   ]
  },
  {
   "cell_type": "code",
   "execution_count": 2,
   "metadata": {},
   "outputs": [],
   "source": [
    "batch_size = 64\n",
    "IMG_SIZE = 32\n",
    "IMG_CHANNELS = 3\n",
    "ZC = 1\n",
    "Z_STD = 1.0\n",
    "GAMMA = 0.1\n",
    "\n",
    "TIME_DIM = 128\n",
    "UNET_BASE_FACTOR = 48\n",
    "N_STEPS = 10\n",
    "\n",
    "lr = 1e-4\n",
    "\n",
    "G_ITERS = 10\n",
    "D_ITERS = 1\n",
    "f_ITERS = 5\n",
    "MAX_STEPS = 50000"
   ]
  },
  {
   "cell_type": "code",
   "execution_count": 3,
   "metadata": {},
   "outputs": [],
   "source": [
    "device = torch.device(\"cuda\" if torch.cuda.is_available() else \"cpu\")"
   ]
  },
  {
   "cell_type": "code",
   "execution_count": 4,
   "metadata": {},
   "outputs": [],
   "source": [
    "sampler3, test_sampler3 = load_dataset('MNIST-colored_3', './datasets/MNIST', img_size=IMG_SIZE, batch_size=batch_size, device=device)\n",
    "sampler2, test_sampler2 = load_dataset('MNIST-colored_2', './datasets/MNIST', img_size=IMG_SIZE, batch_size=batch_size, device=device)\n",
    "Y_sampler = sampler3\n",
    "X_sampler = sampler2"
   ]
  },
  {
   "cell_type": "code",
   "execution_count": 5,
   "metadata": {},
   "outputs": [],
   "source": [
    "from MNIST_models.cunet import CUNet\n",
    "from MNIST_models.resnet import ResNet_D\n",
    "from MNIST_models.unet import UNet\n",
    "from MNIST_models.enot import SDE, G_wrapper"
   ]
  },
  {
   "cell_type": "code",
   "execution_count": 6,
   "metadata": {},
   "outputs": [
    {
     "name": "stdout",
     "output_type": "stream",
     "text": [
      "D params: 13494209\n",
      "G params: 9716259\n",
      "sde params: 9934611\n"
     ]
    }
   ],
   "source": [
    "D = ResNet_D(IMG_SIZE, nc=IMG_CHANNELS).to(device)\n",
    "G = UNet(IMG_CHANNELS+ZC, IMG_CHANNELS, base_factor=UNET_BASE_FACTOR).to(device)\n",
    "G = G_wrapper(G, ZC, Z_STD)\n",
    "f = CUNet(IMG_CHANNELS, IMG_CHANNELS, TIME_DIM, base_factor=UNET_BASE_FACTOR).to(device)\n",
    "sde = SDE(shift_model=f, n_steps=N_STEPS, time_dim=TIME_DIM).to(device)\n",
    "\n",
    "sde_opt = Adam(sde.parameters(), lr=lr*10)\n",
    "G_opt = Adam(G.parameters(), lr=lr)\n",
    "D_opt = Adam(D.parameters(), lr=lr)\n",
    "\n",
    "\n",
    "# D_checkpoint  = torch.load('D_checkpoint.pth')\n",
    "# D.load_state_dict(D_checkpoint['D'])\n",
    "# D_opt.load_state_dict(D_checkpoint['optimizer_D'])\n",
    "\n",
    "# G_checkpoint  = torch.load('G_checkpoint.pth')\n",
    "# G.load_state_dict(G_checkpoint['G'])\n",
    "# G_opt.load_state_dict(G_checkpoint['optimizer_G'])\n",
    "\n",
    "# sde_checkpoint  = torch.load('sde_checkpoint.pth')\n",
    "# sde.load_state_dict(sde_checkpoint['sde'])\n",
    "# sde_opt.load_state_dict(sde_checkpoint['optimizer_sde'])\n",
    "    \n",
    "print('D params:', np.sum([np.prod(p.shape) for p in D.parameters()]))\n",
    "print('G params:', np.sum([np.prod(p.shape) for p in G.parameters()]))\n",
    "print('sde params:', np.sum([np.prod(p.shape) for p in sde.parameters()]))"
   ]
  },
  {
   "cell_type": "code",
   "execution_count": 7,
   "metadata": {},
   "outputs": [],
   "source": [
    "def trainENOT(X_sampler, Y_sampler, G, G_opt, D, D_opt, sde, sde_opt):\n",
    "    \n",
    "    for step in tqdm(range(MAX_STEPS)):\n",
    "            \n",
    "        for G_iter in range(G_ITERS):\n",
    "\n",
    "            for f_iter in range(f_ITERS):\n",
    "                x0 = X_sampler.sample(batch_size)\n",
    "                xN = G(x0)\n",
    "                \n",
    "                t = (torch.rand(batch_size)*0.99).to(device)\n",
    "                t_emb = sde.time(t)[:, :, None, None]\n",
    "                t = t[:, None, None, None]\n",
    "                xt = x0 + (xN - x0) * t + torch.randn_like(x0)*torch.sqrt(t*(1-t)*GAMMA)\n",
    "                \n",
    "                f_loss = ((sde.shift_model(xt, t_emb) - (xN - xt)/(1-t)) ** 2).mean()\n",
    "                sde_opt.zero_grad(); f_loss.backward(); sde_opt.step()\n",
    "\n",
    "            x0 = X_sampler.sample(batch_size)\n",
    "            xN = G(x0)\n",
    "\n",
    "            t = (torch.rand(batch_size)*0.99).to(device)\n",
    "            t_emb = sde.time(t)[:, :, None, None]\n",
    "            t = t[:, None, None, None]\n",
    "            xt = x0 + (xN - x0) * t + torch.randn_like(x0)*torch.sqrt(t*(1-t)*GAMMA)\n",
    "            \n",
    "            f_x_t = sde.shift_model(xt, t_emb)\n",
    "            E = (xN - xt)/(1-t)\n",
    "\n",
    "            loss1 = ((f_x_t*E).mean() - (f_x_t*f_x_t).mean()/2)*2\n",
    "            loss2 = - D(xN).mean()\n",
    "            # loss2 = 0\n",
    "\n",
    "            G_loss = loss1 + loss2\n",
    "            \n",
    "            G_opt.zero_grad(); G_loss.backward(); G_opt.step()\n",
    "        \n",
    "        \n",
    "        # plotter 1\n",
    "        if step % 25 == 1:\n",
    "            clear_output(wait=True)\n",
    "            \n",
    "            with torch.no_grad():\n",
    "                X = X_sampler.sample(batch_size)\n",
    "\n",
    "                T_XZ_np = []\n",
    "                \n",
    "                # Our method results G\n",
    "                for i in range(100):\n",
    "                    T_XZ_np.append(G(X).cpu().numpy())\n",
    "            \n",
    "                T_XZ_np = np.array(T_XZ_np)\n",
    "                wandb.log({f'G var' : T_XZ_np.var(axis=0).mean(axis=0).mean().item()}, step=step)\n",
    "\n",
    "                T_X_np = []\n",
    "                for i in range(100):\n",
    "                    T_X_np.append(sde(X, GAMMA).cpu().numpy())\n",
    "            \n",
    "                T_X_np = np.array(T_X_np)\n",
    "                wandb.log({f'sde var' : T_X_np.var(axis=0).mean(axis=0).mean().item()}, step=step)\n",
    "                \n",
    "            \n",
    "            X = X_sampler.sample(batch_size)\n",
    "            \n",
    "            G_dataset = G(X).detach()\n",
    "            f_dataset = sde(X).detach()\n",
    "            \n",
    "            wandb.log({f'G mse' : F.mse_loss(X.detach(), G_dataset).item()}, step=step)\n",
    "            wandb.log({f'sde mse' : F.mse_loss(X.detach(), f_dataset).item()}, step=step)\n",
    "            \n",
    "            fig1 = plot_trajectories(sde, GAMMA, X_sampler, 3)\n",
    "            wandb.log({\"trajectories\": wandb.Image(fig1)})\n",
    "            plt.close(fig1)\n",
    "            fig2 = plot_images(sde, X_sampler, 4, 4)\n",
    "            wandb.log({\"generated_images\": wandb.Image(fig2)})\n",
    "            plt.close(fig2)\n",
    "            \n",
    "    \n",
    "        for D_iter in range(D_ITERS):\n",
    "            x0 = X_sampler.sample(batch_size)\n",
    "            x1 = Y_sampler.sample(batch_size)\n",
    "            xN = G(x0)\n",
    "            D_loss = (- D(x1) + D(xN)).mean()\n",
    "            D_opt.zero_grad(); D_loss.backward(); D_opt.step()\n",
    "\n",
    "        wandb.log({f'f_loss' : f_loss.item()}, step=step)\n",
    "        wandb.log({f'G_loss' : G_loss.item()}, step=step)\n",
    "        wandb.log({f'D_loss' : D_loss.item()}, step=step)"
   ]
  },
  {
   "cell_type": "code",
   "execution_count": 8,
   "metadata": {},
   "outputs": [
    {
     "name": "stderr",
     "output_type": "stream",
     "text": [
      "Failed to detect the name of this notebook, you can set it manually with the WANDB_NOTEBOOK_NAME environment variable to enable code saving.\n",
      "\u001b[34m\u001b[1mwandb\u001b[0m: Currently logged in as: \u001b[33milyasudakov\u001b[0m (\u001b[33msudakov\u001b[0m). Use \u001b[1m`wandb login --relogin`\u001b[0m to force relogin\n"
     ]
    },
    {
     "data": {
      "text/html": [
       "wandb version 0.19.8 is available!  To upgrade, please run:\n",
       " $ pip install wandb --upgrade"
      ],
      "text/plain": [
       "<IPython.core.display.HTML object>"
      ]
     },
     "metadata": {},
     "output_type": "display_data"
    },
    {
     "data": {
      "text/html": [
       "Tracking run with wandb version 0.16.1"
      ],
      "text/plain": [
       "<IPython.core.display.HTML object>"
      ]
     },
     "metadata": {},
     "output_type": "display_data"
    },
    {
     "data": {
      "text/html": [
       "Run data is saved locally in <code>/home/sudakovcom/Desktop/ENOT_TOY/wandb/run-20250321_191916-jemfestu</code>"
      ],
      "text/plain": [
       "<IPython.core.display.HTML object>"
      ]
     },
     "metadata": {},
     "output_type": "display_data"
    },
    {
     "data": {
      "text/html": [
       "Syncing run <strong><a href='https://wandb.ai/sudakov/MNIST_EOT/runs/jemfestu' target=\"_blank\">absurd-paper-29</a></strong> to <a href='https://wandb.ai/sudakov/MNIST_EOT' target=\"_blank\">Weights & Biases</a> (<a href='https://wandb.me/run' target=\"_blank\">docs</a>)<br/>"
      ],
      "text/plain": [
       "<IPython.core.display.HTML object>"
      ]
     },
     "metadata": {},
     "output_type": "display_data"
    },
    {
     "data": {
      "text/html": [
       " View project at <a href='https://wandb.ai/sudakov/MNIST_EOT' target=\"_blank\">https://wandb.ai/sudakov/MNIST_EOT</a>"
      ],
      "text/plain": [
       "<IPython.core.display.HTML object>"
      ]
     },
     "metadata": {},
     "output_type": "display_data"
    },
    {
     "data": {
      "text/html": [
       " View run at <a href='https://wandb.ai/sudakov/MNIST_EOT/runs/jemfestu' target=\"_blank\">https://wandb.ai/sudakov/MNIST_EOT/runs/jemfestu</a>"
      ],
      "text/plain": [
       "<IPython.core.display.HTML object>"
      ]
     },
     "metadata": {},
     "output_type": "display_data"
    },
    {
     "data": {
      "text/html": [
       "<button onClick=\"this.nextSibling.style.display='block';this.style.display='none';\">Display W&B run</button><iframe src='https://wandb.ai/sudakov/MNIST_EOT/runs/jemfestu?jupyter=true' style='border:none;width:100%;height:420px;display:none;'></iframe>"
      ],
      "text/plain": [
       "<wandb.sdk.wandb_run.Run at 0x7326e8786fb0>"
      ]
     },
     "execution_count": 8,
     "metadata": {},
     "output_type": "execute_result"
    }
   ],
   "source": [
    "wandb.init(project='MNIST_EOT')"
   ]
  },
  {
   "cell_type": "code",
   "execution_count": null,
   "metadata": {},
   "outputs": [
    {
     "name": "stderr",
     "output_type": "stream",
     "text": [
      "  0%|          | 1/50000 [00:06<94:54:29,  6.83s/it]"
     ]
    }
   ],
   "source": [
    "stats = trainENOT(X_sampler, Y_sampler, G, G_opt, D, D_opt, sde, sde_opt)"
   ]
  },
  {
   "cell_type": "code",
   "execution_count": null,
   "metadata": {},
   "outputs": [],
   "source": [
    "# D_checkpoint = { \n",
    "#     'D': D.state_dict(),\n",
    "#     'optimizer_D': D_opt.state_dict()}\n",
    "# torch.save(D_checkpoint, 'D_checkpoint.pth')"
   ]
  },
  {
   "cell_type": "code",
   "execution_count": null,
   "metadata": {},
   "outputs": [],
   "source": [
    "# G_checkpoint = { \n",
    "#     'G': G.state_dict(),\n",
    "#     'optimizer_G': G_opt.state_dict()}\n",
    "# torch.save(G_checkpoint, 'G_checkpoint.pth')"
   ]
  },
  {
   "cell_type": "code",
   "execution_count": null,
   "metadata": {},
   "outputs": [],
   "source": [
    "# sde_checkpoint = { \n",
    "#     'sde': sde.state_dict(),\n",
    "#     'optimizer_sde': sde_opt.state_dict()}\n",
    "# torch.save(sde_checkpoint, 'sde_checkpoint.pth')"
   ]
  },
  {
   "cell_type": "code",
   "execution_count": null,
   "metadata": {},
   "outputs": [],
   "source": [
    "# D_checkpoint  = torch.load('D_checkpoint.pth')\n",
    "# D.load_state_dict(D_checkpoint['D'])\n",
    "# D_opt.load_state_dict(D_checkpoint['optimizer_D'])\n",
    "\n",
    "# G_checkpoint  = torch.load('G_checkpoint.pth')\n",
    "# G.load_state_dict(G_checkpoint['G'])\n",
    "# G_opt.load_state_dict(G_checkpoint['optimizer_G'])\n",
    "\n",
    "# sde_checkpoint  = torch.load('sde_checkpoint.pth')\n",
    "# sde.load_state_dict(sde_checkpoint['sde'])\n",
    "# sde_opt.load_state_dict(sde_checkpoint['optimizer_sde'])"
   ]
  },
  {
   "cell_type": "code",
   "execution_count": null,
   "metadata": {},
   "outputs": [],
   "source": []
  }
 ],
 "metadata": {
  "kernelspec": {
   "display_name": "not",
   "language": "python",
   "name": "python3"
  },
  "language_info": {
   "codemirror_mode": {
    "name": "ipython",
    "version": 3
   },
   "file_extension": ".py",
   "mimetype": "text/x-python",
   "name": "python",
   "nbconvert_exporter": "python",
   "pygments_lexer": "ipython3",
   "version": "3.10.13"
  }
 },
 "nbformat": 4,
 "nbformat_minor": 2
}
