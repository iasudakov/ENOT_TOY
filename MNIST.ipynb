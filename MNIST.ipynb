{
 "cells": [
  {
   "cell_type": "code",
   "execution_count": 1,
   "metadata": {},
   "outputs": [],
   "source": [
    "import os, sys\n",
    "sys.path.append(\"..\")\n",
    "\n",
    "from src import distributions\n",
    "\n",
    "import torch\n",
    "from torch import nn\n",
    "from torch.optim import Adam\n",
    "import torch.nn.functional as F\n",
    "from basic import ScoreNetwork\n",
    "\n",
    "import numpy as np\n",
    "\n",
    "from matplotlib import pyplot as plt\n",
    "\n",
    "from tqdm import tqdm\n",
    "from IPython.display import clear_output\n",
    "\n",
    "from src.plotters import plot_results\n",
    "\n",
    "from src.plotters import plot_trajectories\n",
    "from src.tools import load_dataset\n",
    "\n",
    "import os\n",
    "SEED = 0xBADBEEF\n",
    "torch.manual_seed(SEED); np.random.seed(SEED)"
   ]
  },
  {
   "cell_type": "code",
   "execution_count": 2,
   "metadata": {},
   "outputs": [],
   "source": [
    "batch_size = 256\n",
    "lr = 1e-4\n",
    "n_steps = 100\n",
    "GAMMA = 0.1\n",
    "G_ITERS = 5\n",
    "D_ITERS = 1\n",
    "f_ITERS = 10\n",
    "MAX_STEPS = 3000\n",
    "\n",
    "\n",
    "ZC = 1\n",
    "Z_STD = 1.0"
   ]
  },
  {
   "cell_type": "code",
   "execution_count": 3,
   "metadata": {},
   "outputs": [],
   "source": [
    "sampler3, test_sampler3 = load_dataset('MNIST-colored_3', './datasets/MNIST', img_size=32, batch_size=batch_size)\n",
    "sampler2, test_sampler2 = load_dataset('MNIST-colored_2', './datasets/MNIST', img_size=32, batch_size=batch_size)"
   ]
  },
  {
   "cell_type": "code",
   "execution_count": 4,
   "metadata": {},
   "outputs": [],
   "source": [
    "X_sampler = sampler3\n",
    "Y_sampler = sampler2"
   ]
  },
  {
   "cell_type": "code",
   "execution_count": 5,
   "metadata": {},
   "outputs": [
    {
     "name": "stderr",
     "output_type": "stream",
     "text": [
      "Clipping input data to the valid range for imshow with RGB data ([0..1] for floats or [0..255] for integers).\n"
     ]
    },
    {
     "data": {
      "text/plain": [
       "<matplotlib.image.AxesImage at 0x733cd64103d0>"
      ]
     },
     "execution_count": 5,
     "metadata": {},
     "output_type": "execute_result"
    },
    {
     "data": {
      "image/png": "[encoded data removed]",
      "text/plain": [
       "<Figure size 640x480 with 1 Axes>"
      ]
     },
     "metadata": {},
     "output_type": "display_data"
    }
   ],
   "source": [
    "tensor_image = X_sampler.sample(1)[0].cpu()\n",
    "plt.imshow(tensor_image.permute(1, 2, 0))"
   ]
  },
  {
   "cell_type": "code",
   "execution_count": 6,
   "metadata": {},
   "outputs": [],
   "source": [
    "IMG_SIZE = 32\n",
    "IMG_CHANNELS = 3\n",
    "ZC = 1\n",
    "\n",
    "TIME_DIM = 128\n",
    "UNET_BASE_FACTOR = 48\n",
    "EPSILON = 1.0\n",
    "N_STEPS = 10"
   ]
  },
  {
   "cell_type": "code",
   "execution_count": 7,
   "metadata": {},
   "outputs": [],
   "source": [
    "def train(X_sampler, Y_sampler, sde, sde_opt, G, G_opt, D, D_opt, plot_n_samples=500):\n",
    "\n",
    "    G_mse = []\n",
    "    G_var = []\n",
    "    sde_mse = []\n",
    "    sde_var = []\n",
    "    \n",
    "    for step in tqdm(range(MAX_STEPS)):\n",
    "\n",
    "        for G_iter in range(G_ITERS):\n",
    "\n",
    "            x0 = X_sampler.sample(batch_size)\n",
    "            Z = torch.randn((batch_size, ZC, IMG_SIZE, IMG_SIZE), device='cuda') * Z_STD\n",
    "\n",
    "            xN = G(torch.cat([x0, Z], axis = 1))\n",
    "\n",
    "            G_loss = F.mse_loss(x0, xN).mean() - D(xN).mean()\n",
    "            G_opt.zero_grad(); G_loss.backward(); G_opt.step()\n",
    "\n",
    "        \n",
    "        if step % 10 == 0:\n",
    "            clear_output(wait=True)\n",
    "            fig, axes = plt.subplots(1, 2, figsize=(15, 5.2), dpi=150, sharex=True, sharey=True, )\n",
    "            axes[0].imshow(x0[0].cpu().detach().permute(1, 2, 0))\n",
    "            axes[1].imshow(xN[0].cpu().detach().permute(1, 2, 0))\n",
    "            plt.show()\n",
    "        \n",
    "    \n",
    "            \n",
    "        for D_iter in range(D_ITERS):    \n",
    "            x0 = X_sampler.sample(batch_size)\n",
    "            x1 = Y_sampler.sample(batch_size)\n",
    "            Z = torch.randn((batch_size, ZC, IMG_SIZE, IMG_SIZE), device='cuda') * Z_STD\n",
    "            xN = G(torch.cat([x0, Z], axis = 1))\n",
    "            D_loss = (- D(x1) + D(xN)).mean()\n",
    "            D_opt.zero_grad(); D_loss.backward(); D_opt.step()\n",
    "\n",
    "    return (G_mse, G_var, sde_mse, sde_var)"
   ]
  },
  {
   "cell_type": "code",
   "execution_count": 8,
   "metadata": {},
   "outputs": [],
   "source": [
    "# def train(X_sampler, Y_sampler, sde, sde_opt, G, G_opt, D, D_opt, plot_n_samples=500):\n",
    "\n",
    "#     G_mse = []\n",
    "#     G_var = []\n",
    "#     sde_mse = []\n",
    "#     sde_var = []\n",
    "    \n",
    "#     for step in tqdm(range(MAX_STEPS)):\n",
    "\n",
    "#         for G_iter in range(G_ITERS):\n",
    "\n",
    "#             for f_iter in range(f_ITERS):\n",
    "#                 x0 = X_sampler.sample(batch_size)\n",
    "#                 Z = torch.randn((batch_size, ZC, IMG_SIZE, IMG_SIZE), device='cuda') * Z_STD\n",
    "#                 xN = G(torch.cat([x0, Z], axis = 1))\n",
    "                \n",
    "                \n",
    "#                 t = (torch.rand(x0.shape[0])*0.995).cuda()\n",
    "#                 # print(t.shape)\n",
    "#                 # print(((xN - x0)).shape)\n",
    "#                 # print(x0.shape, ((xN - x0) * t).shape, (torch.randn_like(x0)*torch.sqrt(t*(1-t)*GAMMA).shape))\n",
    "#                 xt = x0 + (xN - x0) * t[:, None, None, None] + torch.randn_like(x0)*(torch.sqrt(t*(1-t)*GAMMA)[:, None, None, None])\n",
    "                \n",
    "#                 f_loss = ((sde._get_shift(xt, t) - (xN - xt)/(1-t[:, None, None, None])) ** 2).mean()\n",
    "#                 sde_opt.zero_grad(); f_loss.backward(); sde_opt.step()\n",
    "\n",
    "#             x0 = X_sampler.sample(batch_size)\n",
    "#             Z = torch.randn((batch_size, ZC, IMG_SIZE, IMG_SIZE), device='cuda') * Z_STD\n",
    "\n",
    "#             xN = G(torch.cat([x0, Z], axis = 1))\n",
    "\n",
    "#             t = (torch.rand(x0.shape[0])*0.995).cuda()\n",
    "#             xt = x0 + (xN - x0) * t[:, None, None, None] + torch.randn_like(x0)*(torch.sqrt(t*(1-t)*GAMMA)[:, None, None, None])\n",
    "            \n",
    "#             f_x_t = sde._get_shift(xt, t)\n",
    "#             E = (xN - xt)/(1-t[:, None, None, None])\n",
    "            \n",
    "#             G_loss = (f_x_t*E).mean() - (f_x_t*f_x_t).mean()/2 - D(xN).mean()\n",
    "#             G_opt.zero_grad(); G_loss.backward(); G_opt.step()\n",
    "\n",
    "        \n",
    "#         if step % 10 == 0:\n",
    "#             clear_output(wait=True)\n",
    "#             plt.imshow(xN[0].cpu().detach().permute(1, 2, 0))\n",
    "#             plt.show()\n",
    "        \n",
    "    \n",
    "            \n",
    "#         for D_iter in range(D_ITERS):    \n",
    "#             x0 = X_sampler.sample(batch_size)\n",
    "#             x1 = Y_sampler.sample(batch_size)\n",
    "#             Z = torch.randn((batch_size, ZC, IMG_SIZE, IMG_SIZE), device='cuda') * Z_STD\n",
    "#             xN = G(torch.cat([x0, Z], axis = 1))\n",
    "#             D_loss = (- D(x1) + D(xN)).mean()\n",
    "#             D_opt.zero_grad(); D_loss.backward(); D_opt.step()\n",
    "\n",
    "#     return (G_mse, G_var, sde_mse, sde_var)"
   ]
  },
  {
   "cell_type": "code",
   "execution_count": 9,
   "metadata": {},
   "outputs": [],
   "source": [
    "from MNIST_models.cunet import CUNet\n",
    "from MNIST_models.resnet import ResNet_D\n",
    "from MNIST_models.unet import UNet\n",
    "from MNIST_models.enot import SDE"
   ]
  },
  {
   "cell_type": "code",
   "execution_count": 10,
   "metadata": {},
   "outputs": [
    {
     "name": "stdout",
     "output_type": "stream",
     "text": [
      "D params: 13494209\n",
      "G params: 9716259\n",
      "sde params: 9934611\n"
     ]
    }
   ],
   "source": [
    "D = ResNet_D(IMG_SIZE, nc=IMG_CHANNELS).cuda()\n",
    "G = UNet(IMG_CHANNELS+ZC, IMG_CHANNELS, base_factor=UNET_BASE_FACTOR).cuda()\n",
    "\n",
    "\n",
    "f = CUNet(IMG_CHANNELS, IMG_CHANNELS, TIME_DIM, base_factor=UNET_BASE_FACTOR).cuda()\n",
    "sde = SDE(shift_model=f, epsilon=EPSILON, n_steps=N_STEPS,\n",
    "        time_dim=TIME_DIM, n_last_steps_without_noise=1,\n",
    "        use_positional_encoding=True,\n",
    "        use_gradient_checkpoint=False,\n",
    "        predict_shift=True, image_input=True).cuda()\n",
    "    \n",
    "print('D params:', np.sum([np.prod(p.shape) for p in D.parameters()]))\n",
    "print('G params:', np.sum([np.prod(p.shape) for p in G.parameters()]))\n",
    "print('sde params:', np.sum([np.prod(p.shape) for p in sde.parameters()]))"
   ]
  },
  {
   "cell_type": "code",
   "execution_count": 11,
   "metadata": {},
   "outputs": [],
   "source": [
    "sde_opt = Adam(sde.parameters(), lr=lr)\n",
    "G_opt = Adam(G.parameters(), lr=lr)\n",
    "D_opt = Adam(D.parameters(), lr=lr)"
   ]
  },
  {
   "cell_type": "code",
   "execution_count": 12,
   "metadata": {},
   "outputs": [
    {
     "name": "stderr",
     "output_type": "stream",
     "text": [
      "Clipping input data to the valid range for imshow with RGB data ([0..1] for floats or [0..255] for integers).\n",
      "Clipping input data to the valid range for imshow with RGB data ([0..1] for floats or [0..255] for integers).\n"
     ]
    },
    {
     "data": {
      "image/png": "[encoded data removed]",
      "text/plain": [
       "<Figure size 2250x780 with 2 Axes>"
      ]
     },
     "metadata": {},
     "output_type": "display_data"
    },
    {
     "name": "stderr",
     "output_type": "stream",
     "text": [
      "100%|██████████| 3000/3000 [1:45:37<00:00,  2.11s/it]\n"
     ]
    }
   ],
   "source": [
    "stats = train(X_sampler, Y_sampler, sde, sde_opt, G, G_opt, D, D_opt, plot_n_samples=1000)"
   ]
  },
  {
   "cell_type": "code",
   "execution_count": 13,
   "metadata": {},
   "outputs": [],
   "source": [
    "torch.save(G, 'G.pt')\n",
    "torch.save(D, 'D.pt')"
   ]
  },
  {
   "cell_type": "code",
   "execution_count": null,
   "metadata": {},
   "outputs": [],
   "source": []
  }
 ],
 "metadata": {
  "kernelspec": {
   "display_name": "not",
   "language": "python",
   "name": "python3"
  },
  "language_info": {
   "codemirror_mode": {
    "name": "ipython",
    "version": 3
   },
   "file_extension": ".py",
   "mimetype": "text/x-python",
   "name": "python",
   "nbconvert_exporter": "python",
   "pygments_lexer": "ipython3",
   "version": "3.10.13"
  }
 },
 "nbformat": 4,
 "nbformat_minor": 2
}
